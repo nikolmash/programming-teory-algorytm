{
  "nbformat": 4,
  "nbformat_minor": 0,
  "metadata": {
    "kernelspec": {
      "display_name": "Python 3",
      "language": "python",
      "name": "python3"
    },
    "language_info": {
      "codemirror_mode": {
        "name": "ipython",
        "version": 3
      },
      "file_extension": ".py",
      "mimetype": "text/x-python",
      "name": "python",
      "nbconvert_exporter": "python",
      "pygments_lexer": "ipython3",
      "version": "3.7.4"
    },
    "colab": {
      "name": "hw1 Мария Николаенкова",
      "provenance": [],
      "collapsed_sections": [],
      "toc_visible": true
    }
  },
  "cells": [
    {
      "cell_type": "markdown",
      "metadata": {
        "id": "8i0KqIylf3Ra",
        "colab_type": "text"
      },
      "source": [
        "# Домашнее задание 1. Всего понемножку\n",
        "\n",
        "Дедлайн: 21 декабря 2019 23:59:59\n",
        "\n",
        "1) Пожалуйста, создайте репозиторий на github.com и сделайте его приватным (https://clck.ru/KMNwC, https://clck.ru/KMNmL) - так вашу работу сможете видеть только вы. Подключитесь к https://education.github.com/pack с помощью edu.hse.ru почты, чтобы можно было добавлять в collaborators неограниченное количество пользователей.\n",
        "\n",
        "2) Чтобы преподаватели и ассистенты могли просматривать ваш приватный репозиторий, добавьте в collaborators вашего репозитория (https://clck.ru/KMP9Z) четырёх человек: esolovev, eszakharova, akseryanin, ldsad7.\n",
        "\n",
        "3) Можно сдать как один или несколько .py-файлов, так и .ipynb-тетрадку. Несоблюдение PEP8 пока что не карается.\n",
        "\n",
        "4) **При написании функций/классов используйте type annotations** (подписывайте типы параметров и выходных значений, каждую используемую переменную подписывать не нужно). Сжато о type annotations рассказал [здесь](https://github.com/esolovev/ling2019/blob/master/module1/some-python-features.ipynb), подробнее читайте в [документации](https://docs.python.org/3/library/typing.html).\n",
        "\n",
        "5) Нельзя использовать pandas и numpy, а также другие сторонние библиотеки для работы с данными."
      ]
    },
    {
      "cell_type": "markdown",
      "metadata": {
        "id": "KCKdQ9yVf3Re",
        "colab_type": "text"
      },
      "source": [
        "## Часть 1. Скачиваем Топ-500 КиноПоиска."
      ]
    },
    {
      "cell_type": "markdown",
      "metadata": {
        "id": "mRrE4F69f3Ri",
        "colab_type": "text"
      },
      "source": [
        "1) (3 балла) Напишите функцию без параметров, возвращающую генератор, который последовательно возвращает информацию о фильмах из [Топ-500 КиноПоиска](https://www.kinopoisk.ru/top/lists/1/) в виде словаря. Например, первый возвращаемый объект будет выглядеть так (достаточно вытащить только перечисленные пять полей): \n",
        "\n",
        "`{\n",
        "    'name': 'Побег из Шоушенка', \n",
        "    'kp_rating': 9.112, \n",
        "    'imdb_rating': 9.3, \n",
        "    'year': 1994, \n",
        "    'url': 'https://www.kinopoisk.ru/film/326/',\n",
        "    '_utc_timestamp': '2019-11-26 09:53:51' # время в UTC (https://en.wikipedia.org/wiki/Coordinated_Universal_Time) на момент загрузки страницы c точностью до секунд\n",
        "}`\n",
        "\n",
        "Используйте любые библиотеки для хождения в интернет (я рекомендую [requests](https://2.python-requests.org/en/master/)) и парсинга HTML (например, [BeautifulSoup](https://www.crummy.com/software/BeautifulSoup/bs4/doc/)).\n",
        "\n",
        "Делайте перерывы в 0.5 секунд между запросами. Это можно сделать с помощью одной из функций в модуле [time](https://docs.python.org/3/library/time.html). Изучите документацию и примените нужную функцию.\n",
        "\n",
        "Поле `_utc_timestamp` можно сформировать следующим образом: сначала получаем объект с текущей датой и временем, а затем форматируем его как строку. Вам поможет модуль [datetime](https://docs.python.org/3/library/datetime.html). Обратите внимание, что ведущие нули (в моем примере это нуль перед часом - 09) нужно оставлять в строке, то есть строка со временем должна иметь фиксированную длину 19.\n",
        "\n",
        "**UPD**: если не получается загружать страницы с КП, можно взять в качестве источника данных https://www.kinoafisha.info/rating/movies/?page=2 (в таком случае рейтинг IMDb можно не доставать)."
      ]
    },
    {
      "cell_type": "code",
      "metadata": {
        "id": "sLF_1loMsHev",
        "colab_type": "code",
        "colab": {}
      },
      "source": [
        "import requests\n",
        "import re \n",
        "import time\n",
        "import datetime\n",
        "from bs4 import BeautifulSoup\n",
        "from typing import List, Dict, Union, Any, Iterable\n"
      ],
      "execution_count": 0,
      "outputs": []
    },
    {
      "cell_type": "code",
      "metadata": {
        "id": "IcjtnTBxifGs",
        "colab_type": "code",
        "colab": {}
      },
      "source": [
        "def kino_gen() -> Iterable[Dict[str, Any]]:\n",
        "  required_tags = []\n",
        "  for page in [1,2,3]:\n",
        "     url = 'https://www.kinopoisk.ru/top/lists/1/filtr/all/sort/order/perpage/200/page/{}/'.format(page)\n",
        "     headers = {'user-agent': 'Mozilla/5.0 (Windows NT 6.1; Win64; x64)'}  \n",
        "     r = requests.get(url, headers=headers)\n",
        "     html_doc = r.text  \n",
        "     soup = BeautifulSoup(html_doc, 'html.parser')\n",
        "     required_tags += soup.find_all('tr', ' js-film-list-item')\n",
        "     time.sleep(10)\n",
        "  for tr in required_tags:\n",
        "    td_blocks = tr.find_all('td')\n",
        "    div_block1 = td_blocks[1].find('div')\n",
        "    div_block2 = td_blocks[2].find('div', 'WidgetStars')\n",
        "    divs_in_td2 = td_blocks[2].find_all('div')\n",
        "    name = div_block1.find('a').contents[0]\n",
        "    reg_year = re.search(r'(\\d+)', div_block1.find('span').contents[0])\n",
        "    if len(reg_year.group(1)) < 4:\n",
        "      year = ''\n",
        "    else:\n",
        "      year = reg_year.group(1)\n",
        "    kp_rating = div_block2.get('data-film-rating')\n",
        "    link = 'https://www.kinopoisk.ru/film/%s/' % div_block2.get('data-film-id')\n",
        "    imdb = divs_in_td2[3].contents[0]\n",
        "    reg_imdb = re.search(r'\\d.\\d\\d', imdb)\n",
        "    imdb = reg_imdb.group(0)\n",
        "    tm = datetime.datetime.strftime(datetime.datetime.now(datetime.timezone.utc), '%Y-%m-%d %H:%M:%S')\n",
        "    film = {'name': name, 'kp_rating': kp_rating, 'imdb_rating': imdb,\n",
        "            'year': year, 'url': link, '_utc_timestamp': tm}\n",
        "    yield film"
      ],
      "execution_count": 0,
      "outputs": []
    },
    {
      "cell_type": "markdown",
      "metadata": {
        "id": "_W94fqQNf3Rl",
        "colab_type": "text"
      },
      "source": [
        "2) (1 балл) Добавьте в функцию параметры, ограничивающие количество фильмов (чтобы вместо всего Топа-500 можно было скачать, например, 17 первых фильмов) и изменяющие время перерыва между запросами (чтобы вместо 0.5 с можно было задавать произвольное время в секундах). Добавьте проверку на корректность переданных параметров функции - если передано некорректное значение аргумента, нужно выбрасывать подходящее исключение."
      ]
    },
    {
      "cell_type": "code",
      "metadata": {
        "id": "Ik6lNKHJPAvP",
        "colab_type": "code",
        "colab": {}
      },
      "source": [
        "def kino_gen(n :int, sec : Union[int, float]) -> Iterable[Dict[str, Any]]: \n",
        "  if n<0 or sec<0:\n",
        "    raise ValueError('Допустимы только неотрицательные значения')\n",
        "  if n>500:\n",
        "    raise ValueError('Превышено максимальное значение n - 500')\n",
        "  required_tags = []\n",
        "  for page in [1,2,3]:\n",
        "     url = 'https://www.kinopoisk.ru/top/lists/1/filtr/all/sort/order/perpage/200/page/{}/'.format(page)\n",
        "     headers = {'user-agent': 'Mozilla/5.0 (Windows NT 6.1; Win64; x64)'}  \n",
        "     r = requests.get(url, headers=headers)\n",
        "     html_doc = r.text  \n",
        "     soup = BeautifulSoup(html_doc, 'html.parser')\n",
        "     required_tags += soup.find_all('tr', ' js-film-list-item')\n",
        "     time.sleep(sec)\n",
        "  for x in range(n):\n",
        "    td_blocks = required_tags[x].find_all('td')\n",
        "    div_block1 = td_blocks[1].find('div')\n",
        "    div_block2 = td_blocks[2].find('div', 'WidgetStars')\n",
        "    divs_in_td2 = td_blocks[2].find_all('div')\n",
        "    name = div_block1.find('a').contents[0]\n",
        "    reg_year = re.search(r'(\\d+)', div_block1.find('span').contents[0])\n",
        "    if len(reg_year.group(1)) < 4:\n",
        "      year = ''\n",
        "    else:\n",
        "      year = reg_year.group(1)\n",
        "    kp_rating = div_block2.get('data-film-rating')\n",
        "    link = 'https://www.kinopoisk.ru/film/%s/' % div_block2.get('data-film-id')\n",
        "    imdb = divs_in_td2[3].contents[0]\n",
        "    reg_imdb = re.search(r'\\d.\\d\\d', imdb)\n",
        "    imdb = reg_imdb.group(0)\n",
        "    tm = datetime.datetime.strftime(datetime.datetime.now(datetime.timezone.utc), '%Y-%m-%d %H:%M:%S')\n",
        "    film = {'name': name, 'kp_rating': kp_rating, 'imdb_rating': imdb,\n",
        "            'year': year, 'url': link, '_utc_timestamp': tm}\n",
        "    yield film"
      ],
      "execution_count": 0,
      "outputs": []
    },
    {
      "cell_type": "markdown",
      "metadata": {
        "id": "FBxz2fbxf3Rn",
        "colab_type": "text"
      },
      "source": [
        "3) (0.5 балла) Выгрузите весь Топ-500 и превратите его в список словарей. Отсортируйте этот список по убыванию рейтинга IMDb (https://wiki.python.org/moin/HowTo/Sorting)"
      ]
    },
    {
      "cell_type": "code",
      "metadata": {
        "id": "3yXimaZ-Xuyw",
        "colab_type": "code",
        "colab": {}
      },
      "source": [
        "top500 = list(kino_gen())\n",
        "top500 = sorted(top500, key=lambda film: film['imdb_rating'], reverse=True)"
      ],
      "execution_count": 0,
      "outputs": []
    },
    {
      "cell_type": "markdown",
      "metadata": {
        "id": "xx6nvcUUf3Rq",
        "colab_type": "text"
      },
      "source": [
        "4) (0.5 балла) Используйте один из контейнеров из модуля [collections](https://docs.python.org/3/library/collections.html), чтобы собрать словарь вида \"год выхода фильма -> количество фильмов из топ-500, вышедших в этот год\". Выведите самый популярный год, а также минимальный и максимальный."
      ]
    },
    {
      "cell_type": "code",
      "metadata": {
        "id": "ZaIAxNxykZNE",
        "colab_type": "code",
        "colab": {}
      },
      "source": [
        "from collections import Counter\n",
        "\n",
        "c = Counter()\n",
        "for film in top500:\n",
        "  try:\n",
        "    c[int(film['year'])] +=1\n",
        "  except:\n",
        "    pass \n",
        "c = dict(c)"
      ],
      "execution_count": 0,
      "outputs": []
    },
    {
      "cell_type": "code",
      "metadata": {
        "id": "IQnqekVaXyJb",
        "colab_type": "code",
        "outputId": "f3b1b74b-b266-4884-a935-54ff2877f9f8",
        "colab": {
          "base_uri": "https://localhost:8080/",
          "height": 34
        }
      },
      "source": [
        "pop_year = ''\n",
        "for k,v in c.items():\n",
        "  if v == max(c.values()):\n",
        "    pop_year = k\n",
        "\n",
        "print('Самый популярный год: ', pop_year)"
      ],
      "execution_count": 0,
      "outputs": [
        {
          "output_type": "stream",
          "text": [
            "Самый популярный год:  2004\n"
          ],
          "name": "stdout"
        }
      ]
    },
    {
      "cell_type": "code",
      "metadata": {
        "id": "YvpXJ8jFasYN",
        "colab_type": "code",
        "outputId": "001db3c2-6da7-4884-a53f-103f22786280",
        "colab": {
          "base_uri": "https://localhost:8080/",
          "height": 51
        }
      },
      "source": [
        "print('Максимальный год: ', max(c.keys()))\n",
        "print('Минимальный год: ', min(c.keys()))"
      ],
      "execution_count": 0,
      "outputs": [
        {
          "output_type": "stream",
          "text": [
            "Максимальный год:  2019\n",
            "Минимальный год:  1921\n"
          ],
          "name": "stdout"
        }
      ]
    },
    {
      "cell_type": "markdown",
      "metadata": {
        "id": "_l7lBOYNf3Rs",
        "colab_type": "text"
      },
      "source": [
        "5) (1.5 балла) Напишите функцию, которая записывает ваш список словарей в файл в нужном формате, сортируя его по выбранному полю по возрастанию или убыванию. \n",
        "\n",
        "Проверяйте аргументы на корректность. Там, где возможно, используйте встроенные функции Python, вручную писать конвертацию в JSON не нужно. Не забывайте закрывать файл после окончания записи (https://stackoverflow.com/questions/25070854/why-should-i-close-files-in-python)\n",
        "\n",
        "\n",
        "Возможные аргументы для `filetype`:\n",
        "* `json` - https://docs.python.org/3.8/library/json.html\n",
        "* `csv` - https://docs.python.org/3.8/library/csv.html\n",
        "* `tsv` - то же, что CSV, но вместо запятых используются символы табуляции '\\t')\n",
        "* `jsonl` - каждая строка файла соответствует JSON-представлению какого-то из элементов массива. (http://jsonlines.org/examples/)\n",
        "\n",
        "Обратите внимание, что вне зависимости от значений параметров `order_by` и `ascending`, исходный объект меняться **не должен**."
      ]
    },
    {
      "cell_type": "code",
      "metadata": {
        "id": "6MurY4mRf3Rv",
        "colab_type": "code",
        "colab": {}
      },
      "source": [
        "import json\n",
        "import csv\n",
        "\n",
        "def dump(film_list: List[Dict[str, Any]], path: str, filetype: str, order_by: Union[None, str] = None, ascending: bool = True) -> None:\n",
        "  if filetype not in ['json', 'csv', 'tsv', 'jsonl']:\n",
        "    raise ValueError('Невозможный аргумент для переменной filetype')\n",
        "  if order_by not in film_list[0].keys():\n",
        "    raise ValueError('Невозможный аргумент для переменной filetype')\n",
        "  f = open(path, 'w')\n",
        "  if filetype == 'json':\n",
        "    f.write(json.dumps(sorted(film_list, key=lambda film: film[order_by], reverse=ascending), ensure_ascii = False))\n",
        "  elif filetype=='csv':\n",
        "    fieldnames = ['name', 'kp_rating', 'imdb_rating', 'year', 'url', '_utc_timestamp' ]\n",
        "    writer = csv.DictWriter(f, fieldnames=fieldnames)\n",
        "    writer.writeheader()\n",
        "    for film in sorted(film_list, key=lambda film: film[order_by], reverse=ascending):\n",
        "      writer.writerow(film)\n",
        "  elif filetype == 'tsv':\n",
        "    fieldnames = 'name\\tkp_rating\\timdb_rating\\tyear\\turl\\t_utc_timestamp'\n",
        "    f.write(fieldnames)\n",
        "    f.write('\\n')\n",
        "    for film in sorted(film_list, key=lambda film: film[order_by], reverse=ascending):\n",
        "      row = '{}\\t{}\\t{}\\t{}\\t{}\\t{}'.format(film['name'], film['kp_rating'], film['imdb_rating'],\n",
        "                                            film['year'], film['url'], film['_utc_timestamp'])\n",
        "      f.write(row)\n",
        "      f.write('\\n')\n",
        "  elif filetype == 'jsonl':\n",
        "    for film in sorted(film_list, key=lambda film: film[order_by], reverse=ascending):\n",
        "      f.write(json.dumps(film, ensure_ascii = False))\n",
        "      f.write('\\n')\n",
        "  f.close()\n",
        "  \n",
        "\n",
        "\n",
        "\n",
        "dump(top500, 'myfile.tsv', filetype='tsv', order_by='name', ascending=True)"
      ],
      "execution_count": 0,
      "outputs": []
    },
    {
      "cell_type": "markdown",
      "metadata": {
        "id": "F7gIfZTEf3R4",
        "colab_type": "text"
      },
      "source": [
        "## Часть 2. Вычисляем по IP"
      ]
    },
    {
      "cell_type": "markdown",
      "metadata": {
        "id": "vhmrG5ZZf3R6",
        "colab_type": "text"
      },
      "source": [
        "0. Почитайте, как устроены IPv4-адреса (https://en.wikipedia.org/wiki/IPv4). \n",
        "1. (0.5 балла) Напишите функцию, возвращающую строку, представлящую случайный IPv4-адрес (вам поможет модуль [random](https://docs.python.org/3.8/library/random.html)).\n",
        "2. (0.5 балла) Сгенерируйте список из 100 **разных** IPv4-адресов.\n",
        "3. (1 балл) С помощью https://freegeoip.app/ выгрузите для каждого из этих адресов информацию в формате JSON. Делайте случайные перерывы от 0.5 до 1 секунды между запросами (снова поможет модуль `random`).\n",
        "4. (1.5 балла) В ответе этого API есть поле `time_zone`. Это часовой пояс местоположения, где теоретически находится сервер с таким IP.\n",
        "\n",
        "\n",
        "* Сгенерируйте случайный момент времени в 2019 году (по UTC времени). \n",
        "* Выведите его в виде [unix timestamp](https://timestamp.online/)\n",
        "* Приведите его ко всем встретившимся часовым поясам (см. [тут](https://docs.python.org/3/library/datetime.html?highlight=tzinfo#datetime.tzinfo)). Выведите результат."
      ]
    },
    {
      "cell_type": "code",
      "metadata": {
        "id": "dvi7SSnVf3SA",
        "colab_type": "code",
        "colab": {}
      },
      "source": [
        "import random\n",
        "\n",
        "def random_ip() -> str:\n",
        "  ipv4 = '{}.{}.{}.{}'.format(random.randint(0, 255), random.randint(0, 255), random.randint(0, 255), random.randint(0, 255))\n",
        "  return ipv4"
      ],
      "execution_count": 0,
      "outputs": []
    },
    {
      "cell_type": "code",
      "metadata": {
        "id": "8jXzpSvWoqDx",
        "colab_type": "code",
        "colab": {}
      },
      "source": [
        "ip_list = []\n",
        "while len(ip_list) < 100:\n",
        "  element = random_ip()\n",
        "  if element not in ip_list:\n",
        "    ip_list.append(element)"
      ],
      "execution_count": 0,
      "outputs": []
    },
    {
      "cell_type": "code",
      "metadata": {
        "id": "-JQfjW6VqBOP",
        "colab_type": "code",
        "colab": {}
      },
      "source": [
        "responses = []\n",
        "headers = {\n",
        "    'accept': \"application/json\",\n",
        "    'content-type': \"application/json\"}\n",
        "\n",
        "for ip in ip_list:\n",
        "  url = \"https://freegeoip.app/json/\"\n",
        "  url = url + str(ip)\n",
        "  response = requests.get(url, headers=headers)\n",
        "  responses.append(response.json())\n",
        "  time.sleep(random.uniform(0.5,1))\n",
        "\n",
        "timezones = set([i['time_zone'] for i in responses])"
      ],
      "execution_count": 0,
      "outputs": []
    },
    {
      "cell_type": "code",
      "metadata": {
        "id": "yyoqd8EkraQg",
        "colab_type": "code",
        "outputId": "f575a925-9bb5-4680-d236-4314feb869eb",
        "colab": {
          "base_uri": "https://localhost:8080/",
          "height": 34
        }
      },
      "source": [
        "timezones = set([i['time_zone'] for i in responses])\n",
        "start_time= int(time.mktime(time.strptime(\"2019-01-01 00:00:00\", '%Y-%m-%d %H:%M:%S')))\n",
        "end_time = int(time.mktime(time.strptime(\"2019-12-31 23:59:59\", '%Y-%m-%d %H:%M:%S')))\n",
        "random_moment = random.randint(start_time, end_time)\n",
        "print(random_moment)"
      ],
      "execution_count": 0,
      "outputs": [
        {
          "output_type": "stream",
          "text": [
            "1555005183\n"
          ],
          "name": "stdout"
        }
      ]
    },
    {
      "cell_type": "code",
      "metadata": {
        "id": "FIvfSy9Hulrc",
        "colab_type": "code",
        "outputId": "28ebb0d8-ae9c-4cc2-d353-5d58944e2bf1",
        "colab": {
          "base_uri": "https://localhost:8080/",
          "height": 493
        }
      },
      "source": [
        "import pytz\n",
        "\n",
        "dt = datetime.datetime.fromtimestamp(random_moment)\n",
        "\n",
        "for tz in timezones:\n",
        "  try:\n",
        "    timezone = pytz.timezone(tz)\n",
        "    loc_dt = dt.astimezone(timezone)\n",
        "    print(timezone, loc_dt.strftime('%Y-%m-%d %H:%M:%S'))\n",
        "  except:\n",
        "    pass"
      ],
      "execution_count": 0,
      "outputs": [
        {
          "output_type": "stream",
          "text": [
            "Asia/Bangkok 2019-04-12 00:53:03\n",
            "America/Lima 2019-04-11 12:53:03\n",
            "America/New_York 2019-04-11 13:53:03\n",
            "America/Los_Angeles 2019-04-11 10:53:03\n",
            "Europe/Ljubljana 2019-04-11 19:53:03\n",
            "Europe/Copenhagen 2019-04-11 19:53:03\n",
            "America/Chicago 2019-04-11 12:53:03\n",
            "Australia/Brisbane 2019-04-12 03:53:03\n",
            "America/Edmonton 2019-04-11 11:53:03\n",
            "Europe/Rome 2019-04-11 19:53:03\n",
            "Australia/Sydney 2019-04-12 03:53:03\n",
            "America/Argentina/Buenos_Aires 2019-04-11 14:53:03\n",
            "Africa/Cairo 2019-04-11 19:53:03\n",
            "Europe/Oslo 2019-04-11 19:53:03\n",
            "America/Sao_Paulo 2019-04-11 14:53:03\n",
            "America/Toronto 2019-04-11 13:53:03\n",
            "Asia/Shanghai 2019-04-12 01:53:03\n",
            "Europe/Amsterdam 2019-04-11 19:53:03\n",
            "Asia/Tokyo 2019-04-12 02:53:03\n",
            "Europe/Moscow 2019-04-11 20:53:03\n",
            "Australia/Melbourne 2019-04-12 03:53:03\n",
            "Europe/London 2019-04-11 18:53:03\n",
            "Europe/Berlin 2019-04-11 19:53:03\n",
            "Asia/Tbilisi 2019-04-11 21:53:03\n",
            "Asia/Kolkata 2019-04-11 23:23:03\n",
            "Asia/Seoul 2019-04-12 02:53:03\n",
            "Europe/Sofia 2019-04-11 20:53:03\n",
            "Europe/Paris 2019-04-11 19:53:03\n"
          ],
          "name": "stdout"
        }
      ]
    }
  ]
}