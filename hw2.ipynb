{
  "nbformat": 4,
  "nbformat_minor": 0,
  "metadata": {
    "colab": {
      "name": "hw2",
      "provenance": [],
      "collapsed_sections": []
    },
    "kernelspec": {
      "name": "python3",
      "display_name": "Python 3"
    }
  },
  "cells": [
    {
      "cell_type": "code",
      "metadata": {
        "id": "ghMiuvCNPVUl",
        "colab_type": "code",
        "colab": {
          "base_uri": "https://localhost:8080/",
          "height": 224
        },
        "outputId": "66c0888b-5db0-4667-e156-3293e8e515bd"
      },
      "source": [
        "!pip install pymorphy2"
      ],
      "execution_count": 2,
      "outputs": [
        {
          "output_type": "stream",
          "text": [
            "Collecting pymorphy2\n",
            "\u001b[?25l  Downloading https://files.pythonhosted.org/packages/a3/33/fff9675c68b5f6c63ec8c6e6ff57827dda28a1fa5b2c2d727dffff92dd47/pymorphy2-0.8-py2.py3-none-any.whl (46kB)\n",
            "\r\u001b[K     |███████                         | 10kB 17.9MB/s eta 0:00:01\r\u001b[K     |██████████████▏                 | 20kB 5.9MB/s eta 0:00:01\r\u001b[K     |█████████████████████▎          | 30kB 8.2MB/s eta 0:00:01\r\u001b[K     |████████████████████████████▍   | 40kB 5.4MB/s eta 0:00:01\r\u001b[K     |████████████████████████████████| 51kB 3.6MB/s \n",
            "\u001b[?25hCollecting dawg-python>=0.7\n",
            "  Downloading https://files.pythonhosted.org/packages/6a/84/ff1ce2071d4c650ec85745766c0047ccc3b5036f1d03559fd46bb38b5eeb/DAWG_Python-0.7.2-py2.py3-none-any.whl\n",
            "Collecting pymorphy2-dicts<3.0,>=2.4\n",
            "\u001b[?25l  Downloading https://files.pythonhosted.org/packages/02/51/2465fd4f72328ab50877b54777764d928da8cb15b74e2680fc1bd8cb3173/pymorphy2_dicts-2.4.393442.3710985-py2.py3-none-any.whl (7.1MB)\n",
            "\u001b[K     |████████████████████████████████| 7.1MB 11.4MB/s \n",
            "\u001b[?25hRequirement already satisfied: docopt>=0.6 in /usr/local/lib/python3.6/dist-packages (from pymorphy2) (0.6.2)\n",
            "Installing collected packages: dawg-python, pymorphy2-dicts, pymorphy2\n",
            "Successfully installed dawg-python-0.7.2 pymorphy2-0.8 pymorphy2-dicts-2.4.393442.3710985\n"
          ],
          "name": "stdout"
        }
      ]
    },
    {
      "cell_type": "code",
      "metadata": {
        "id": "9IuaNS6-Qyrx",
        "colab_type": "code",
        "colab": {}
      },
      "source": [
        "import pymorphy2\n",
        "import nltk\n",
        "import re"
      ],
      "execution_count": 0,
      "outputs": []
    },
    {
      "cell_type": "code",
      "metadata": {
        "id": "MSgexqvtBy5n",
        "colab_type": "code",
        "colab": {
          "base_uri": "https://localhost:8080/",
          "height": 68
        },
        "outputId": "3086a8f1-803e-4bed-c512-344363365597"
      },
      "source": [
        "nltk.download('punkt')"
      ],
      "execution_count": 38,
      "outputs": [
        {
          "output_type": "stream",
          "text": [
            "[nltk_data] Downloading package punkt to /root/nltk_data...\n",
            "[nltk_data]   Unzipping tokenizers/punkt.zip.\n"
          ],
          "name": "stdout"
        },
        {
          "output_type": "execute_result",
          "data": {
            "text/plain": [
              "True"
            ]
          },
          "metadata": {
            "tags": []
          },
          "execution_count": 38
        }
      ]
    },
    {
      "cell_type": "code",
      "metadata": {
        "id": "Y3TNKgHL7J76",
        "colab_type": "code",
        "colab": {}
      },
      "source": [
        "class SentenceAnalysis:\n",
        "  \"\"\"\n",
        "  Базовый анализатор предложения для любого языка\n",
        "  \"\"\"\n",
        "  def __init__(self, sentence):\n",
        "    \"\"\"\n",
        "    Конструктор\n",
        "    \"\"\"\n",
        "    self.sentence = sentence\n",
        "\n",
        "  def get_words(self):\n",
        "    \"\"\"\n",
        "    Выдает список слов из полученного предложения\n",
        "    \"\"\"\n",
        "    self.words = re.findall('\\w+', self.sentence)\n",
        "    print(self.words)\n",
        "\n",
        "  def check_affirm(self):\n",
        "    \"\"\"\n",
        "    Проверяет, является ли предложение восклицательным, вопросительным или утвердительным\n",
        "    \"\"\"\n",
        "    if self.sentence[-1] == '?':\n",
        "        self.sentence_type = 'вопросительное'\n",
        "    elif self.sentence[-1] == '!':\n",
        "        self.sentence_type = 'восклицательное'\n",
        "    else:\n",
        "        self.sentence_type = 'утвердительное'\n",
        "    print('данное предложение - ', self.sentence_type)\n",
        "  \n",
        "  def __del__(self): \n",
        "    \"\"\"\n",
        "    Деструктор\n",
        "    \"\"\"\n",
        "        print('Вызван деструктор, объект удален!')\n",
        "\n",
        "  "
      ],
      "execution_count": 0,
      "outputs": []
    },
    {
      "cell_type": "markdown",
      "metadata": {
        "id": "Y9oQZ42TFgA6",
        "colab_type": "text"
      },
      "source": [
        "Был создан родительский класс SentenceAnalysis , который умеет только возвращать список слов и проверять интонацию предложения. Этот класс не привязан ни к какому конкретному языку и список слов, который он будет возвращать для русского и английского языка - не идеален, поэтому в классах RussianSentence и EnglishSentence мы переопределим метод get_words() для этих конкретных языков. "
      ]
    },
    {
      "cell_type": "code",
      "metadata": {
        "id": "LnlsfjWnRHnW",
        "colab_type": "code",
        "colab": {}
      },
      "source": [
        "class RussianSentence(SentenceAnalysis):\n",
        "  \"\"\"\n",
        "  АНализатор предложения на русском языке\n",
        "  \"\"\"\n",
        "  def __init__(self, sentence):\n",
        "        \"\"\"\n",
        "        Конструктор\n",
        "        \"\"\"\n",
        "        super().__init__(sentence=sentence)\n",
        "\n",
        "  def get_words(self):\n",
        "    \"\"\"\n",
        "    Выдает список слов из полученного на вход предложения на русском языке\n",
        "    \"\"\"\n",
        "    self.words = re.findall('[а-яА-ЯёЁ]+', self.sentence)\n",
        "    print(self.words)\n",
        "\n",
        "  def get_lemmas(self):\n",
        "    \"\"\"\n",
        "    Выдает список лемм из полученного на вход предложения на русском языке\n",
        "    \"\"\"\n",
        "    m = pymorphy2.MorphAnalyzer()\n",
        "    self.parsed_words = [m.parse(word)[0] for word in self.words]\n",
        "    print([i.normal_form for i in self.parsed_words])\n"
      ],
      "execution_count": 0,
      "outputs": []
    },
    {
      "cell_type": "code",
      "metadata": {
        "id": "eHRCQIRE9J7-",
        "colab_type": "code",
        "colab": {}
      },
      "source": [
        "class EnglishSentence(SentenceAnalysis):\n",
        "  \"\"\"\n",
        "  Анализатор предложения на английском языке\n",
        "  \"\"\"\n",
        "  def __init__(self, sentence):\n",
        "        \"\"\"\n",
        "        Конструктор\n",
        "        \"\"\"\n",
        "        super().__init__(sentence=sentence)\n",
        "\n",
        "  def get_words(self):\n",
        "    \"\"\"\n",
        "    Выдает список слов из полученного на вход предложения на английском языке\n",
        "    \"\"\"\n",
        "    self.words = re.findall('[a-zA-Z]+',self. sentence)\n",
        "    print(self.words)\n",
        "\n",
        "  def get_lemmas(self):\n",
        "    \"\"\"\n",
        "    Выдает список лемм из полученного на вход предложения на английском языке\n",
        "    \"\"\"\n",
        "    self.lemmas = nltk.word_tokenize(self.sentence)\n",
        "    print(self.lemmas)"
      ],
      "execution_count": 0,
      "outputs": []
    }
  ]
}